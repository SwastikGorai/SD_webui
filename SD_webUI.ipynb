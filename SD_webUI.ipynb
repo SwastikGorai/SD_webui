{
  "nbformat": 4,
  "nbformat_minor": 0,
  "metadata": {
    "colab": {
      "provenance": [],
      "authorship_tag": "ABX9TyPaFTGXab3nr85C8TDaTHa5",
      "include_colab_link": true
    },
    "kernelspec": {
      "name": "python3",
      "display_name": "Python 3"
    },
    "language_info": {
      "name": "python"
    },
    "accelerator": "GPU",
    "gpuClass": "standard"
  },
  "cells": [
    {
      "cell_type": "markdown",
      "metadata": {
        "id": "view-in-github",
        "colab_type": "text"
      },
      "source": [
        "<a href=\"https://colab.research.google.com/github/SwastikGorai/SD_webui/blob/main/SD_webUI.ipynb\" target=\"_parent\"><img src=\"https://colab.research.google.com/assets/colab-badge.svg\" alt=\"Open In Colab\"/></a>"
      ]
    },
    {
      "cell_type": "code",
      "source": [
        "import os"
      ],
      "metadata": {
        "id": "PY4hFmPzpSgc"
      },
      "execution_count": 1,
      "outputs": []
    },
    {
      "cell_type": "code",
      "execution_count": null,
      "metadata": {
        "id": "QC24x0SLcaa1"
      },
      "outputs": [],
      "source": [
        "!pip install xformers"
      ]
    },
    {
      "cell_type": "code",
      "source": [
        "!rm -r stable-diffusion-webui\n",
        "!git clone https://github.com/SwastikGorai/stable-diffusion-webui.git\n",
        "\n",
        "model_link = \"https://civitai.com/api/download/models/1144\" # synthwavepunk_v2.ckpt\n",
        "model_name = model_link[-1:-5:-1][::-1]\n"
      ],
      "metadata": {
        "id": "4DazrEAKeNfn"
      },
      "execution_count": null,
      "outputs": []
    },
    {
      "cell_type": "code",
      "source": [
        "%cd /content/stable-diffusion-webui"
      ],
      "metadata": {
        "id": "vfTTDP1t9tWc"
      },
      "execution_count": null,
      "outputs": []
    },
    {
      "cell_type": "code",
      "source": [
        "output_destination = f\"/content/stable-diffusion-webui/models/Stable-diffusion/{model_name}.ckpt\""
      ],
      "metadata": {
        "id": "lPyE8SK2r6sF"
      },
      "execution_count": 4,
      "outputs": []
    },
    {
      "cell_type": "code",
      "source": [
        "os.system(' wget %(model_link)s -O %(model_destination)s' % {'model_link' : model_link, 'model_destination' : output_destination})"
      ],
      "metadata": {
        "id": "0xeUMZM_oL9l"
      },
      "execution_count": null,
      "outputs": []
    },
    {
      "cell_type": "code",
      "source": [
        "%cd /content/stable-diffusion-webui"
      ],
      "metadata": {
        "id": "GLyRunD5_wHl"
      },
      "execution_count": null,
      "outputs": []
    },
    {
      "cell_type": "code",
      "source": [
        "!python launch.py --share --xformers --enable-insecure-extension-access"
      ],
      "metadata": {
        "id": "jMfH0AoLoIsV"
      },
      "execution_count": 14,
      "outputs": []
    }
  ]
}